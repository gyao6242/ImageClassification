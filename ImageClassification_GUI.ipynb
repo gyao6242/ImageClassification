{
 "cells": [
  {
   "cell_type": "code",
   "execution_count": 1,
   "id": "8984a1ec-80b3-4d03-ae3a-06b9441e5b92",
   "metadata": {},
   "outputs": [],
   "source": [
    "import tkinter as tk\n",
    "import time\n",
    "import threading\n",
    "import subprocess\n",
    "\n",
    "from tkinter import filedialog, simpledialog, messagebox\n",
    "from PIL import Image, ImageTk"
   ]
  },
  {
   "cell_type": "code",
   "execution_count": 2,
   "id": "a17d4694-e872-41d6-b37b-d124cd704753",
   "metadata": {},
   "outputs": [],
   "source": [
    "# CIS 690 Master's Thesis\n",
    "# Gregory Yao\n",
    "# ImageClassification_GUI is a main window that allows the user to select an image from their file explorer\n",
    "#   and verify if their selected image is within the same category as the dataset that was used to train the classification model.\n",
    "# This GUI was build using the Tkinter and Pillow (PIL) library\n",
    "# - Tkinter was used for the main window, file explorer dialog, and the start button.\n",
    "# - PIL was useed for the loading the preview of the image."
   ]
  },
  {
   "cell_type": "code",
   "execution_count": 3,
   "id": "c6b3de7a-b9d5-4060-8fb3-97ece94dbb67",
   "metadata": {},
   "outputs": [
    {
     "data": {
      "text/plain": [
       "''"
      ]
     },
     "execution_count": 3,
     "metadata": {},
     "output_type": "execute_result"
    }
   ],
   "source": [
    "# Setting up main window properties\n",
    "window = tk.Tk()\n",
    "window.title(\"GUI\")\n",
    "window.geometry(\"600x600\")"
   ]
  },
  {
   "cell_type": "code",
   "execution_count": 4,
   "id": "b8595152-2d36-4441-b6ab-70794c1df9b7",
   "metadata": {},
   "outputs": [],
   "source": [
    "# \n",
    "def openFileDialog():\n",
    "    global label\n",
    "    filePath = filedialog.askopenfilename(title = \"Select a File\", filetypes = [(\"Image Files\", \"*.png;*.jpg;*.jpeg\")])\n",
    "    if filePath:\n",
    "        img = Image.open(filePath)\n",
    "        img.thumbnail((500,500))\n",
    "        imgTk = ImageTk.PhotoImage(img)\n",
    "\n",
    "        # Clear any previous selected images before loading the new image\n",
    "        if 'label' in globals():\n",
    "            label.config(image = imgTk)\n",
    "            label.image = imgTk\n",
    "        else:\n",
    "            label = tk.Label(window, image = imgTk)\n",
    "            label.image = imgTk\n",
    "            label.pack()\n",
    "\n",
    "def runClassificationScript():\n",
    "    subprocess.run([\"python\", \"ImageClassification_TransferLearning.py\"])\n",
    "\n",
    "openButton = tk.Button(window, text = \"Select Image\", command = openFileDialog)\n",
    "generateButton = tk.Button(window, text = \"Generate\", command = runClassificationScript)\n",
    "\n",
    "openButton.pack(padx = 20, pady = 10)\n",
    "generateButton.pack(padx = 20, pady = 5)"
   ]
  },
  {
   "cell_type": "code",
   "execution_count": 5,
   "id": "663cda3d-3952-42d8-828d-80f9cc04002d",
   "metadata": {},
   "outputs": [],
   "source": [
    "window.mainloop()"
   ]
  },
  {
   "cell_type": "code",
   "execution_count": null,
   "id": "148967bc-f097-44dc-a009-38aff7e134e8",
   "metadata": {},
   "outputs": [],
   "source": []
  }
 ],
 "metadata": {
  "kernelspec": {
   "display_name": "Python 3 (ipykernel)",
   "language": "python",
   "name": "python3"
  },
  "language_info": {
   "codemirror_mode": {
    "name": "ipython",
    "version": 3
   },
   "file_extension": ".py",
   "mimetype": "text/x-python",
   "name": "python",
   "nbconvert_exporter": "python",
   "pygments_lexer": "ipython3",
   "version": "3.12.0"
  }
 },
 "nbformat": 4,
 "nbformat_minor": 5
}
